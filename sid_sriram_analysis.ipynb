{
 "cells": [
  {
   "cell_type": "code",
   "execution_count": 1,
   "metadata": {},
   "outputs": [
    {
     "data": {
      "text/html": [
       "<div>\n",
       "<style scoped>\n",
       "    .dataframe tbody tr th:only-of-type {\n",
       "        vertical-align: middle;\n",
       "    }\n",
       "\n",
       "    .dataframe tbody tr th {\n",
       "        vertical-align: top;\n",
       "    }\n",
       "\n",
       "    .dataframe thead th {\n",
       "        text-align: right;\n",
       "    }\n",
       "</style>\n",
       "<table border=\"1\" class=\"dataframe\">\n",
       "  <thead>\n",
       "    <tr style=\"text-align: right;\">\n",
       "      <th></th>\n",
       "      <th>Year</th>\n",
       "      <th>Film</th>\n",
       "      <th>Song</th>\n",
       "      <th>Composer</th>\n",
       "      <th>Language</th>\n",
       "    </tr>\n",
       "  </thead>\n",
       "  <tbody>\n",
       "    <tr>\n",
       "      <th>145</th>\n",
       "      <td>2019</td>\n",
       "      <td>Manoharam</td>\n",
       "      <td>Akale</td>\n",
       "      <td>Sanjeev T</td>\n",
       "      <td>Malyalam</td>\n",
       "    </tr>\n",
       "    <tr>\n",
       "      <th>146</th>\n",
       "      <td>2020</td>\n",
       "      <td>Gauthamante Radham</td>\n",
       "      <td>Uyire</td>\n",
       "      <td>Ankit Menon</td>\n",
       "      <td>Malyalam</td>\n",
       "    </tr>\n",
       "    <tr>\n",
       "      <th>147</th>\n",
       "      <td>2020</td>\n",
       "      <td>Maniyarayile Ashokan</td>\n",
       "      <td>Olu</td>\n",
       "      <td>Sreehari K Nair</td>\n",
       "      <td>Malyalam</td>\n",
       "    </tr>\n",
       "    <tr>\n",
       "      <th>148</th>\n",
       "      <td>2021</td>\n",
       "      <td>Thala</td>\n",
       "      <td>Poonkodiye</td>\n",
       "      <td>Ankit Menon</td>\n",
       "      <td>Malyalam</td>\n",
       "    </tr>\n",
       "    <tr>\n",
       "      <th>149</th>\n",
       "      <td>2021</td>\n",
       "      <td>Kudukku 2025</td>\n",
       "      <td>Maaran</td>\n",
       "      <td>Bhoomee</td>\n",
       "      <td>Malyalam</td>\n",
       "    </tr>\n",
       "  </tbody>\n",
       "</table>\n",
       "</div>"
      ],
      "text/plain": [
       "     Year                  Film        Song         Composer  Language\n",
       "145  2019             Manoharam       Akale        Sanjeev T  Malyalam\n",
       "146  2020    Gauthamante Radham       Uyire      Ankit Menon  Malyalam\n",
       "147  2020  Maniyarayile Ashokan         Olu  Sreehari K Nair  Malyalam\n",
       "148  2021                 Thala  Poonkodiye      Ankit Menon  Malyalam\n",
       "149  2021          Kudukku 2025      Maaran          Bhoomee  Malyalam"
      ]
     },
     "execution_count": 1,
     "metadata": {},
     "output_type": "execute_result"
    }
   ],
   "source": [
    "import pandas as pd \n",
    "df = pd.read_csv('data.csv')\n",
    "df.tail()"
   ]
  },
  {
   "cell_type": "code",
   "execution_count": null,
   "metadata": {},
   "outputs": [],
   "source": []
  },
  {
   "cell_type": "code",
   "execution_count": 2,
   "metadata": {},
   "outputs": [
    {
     "data": {
      "text/plain": [
       "<matplotlib.axes._subplots.AxesSubplot at 0x240193d7e50>"
      ]
     },
     "execution_count": 2,
     "metadata": {},
     "output_type": "execute_result"
    },
    {
     "data": {
      "image/png": "[encoded data removed]",
      "text/plain": [
       "<Figure size 432x288 with 1 Axes>"
      ]
     },
     "metadata": {
      "needs_background": "light"
     },
     "output_type": "display_data"
    }
   ],
   "source": [
    "# How many songs has he outputted ? \n",
    "df['Year'].value_counts().sort_values().plot(kind = 'barh')"
   ]
  },
  {
   "cell_type": "code",
   "execution_count": 3,
   "metadata": {},
   "outputs": [
    {
     "data": {
      "text/plain": [
       "<matplotlib.axes._subplots.AxesSubplot at 0x24019b34940>"
      ]
     },
     "execution_count": 3,
     "metadata": {},
     "output_type": "execute_result"
    },
    {
     "data": {
      "image/png": "[encoded data removed]",
      "text/plain": [
       "<Figure size 432x288 with 1 Axes>"
      ]
     },
     "metadata": {
      "needs_background": "light"
     },
     "output_type": "display_data"
    }
   ],
   "source": [
    "# # How many songs has he outputted ? \n",
    "df['Composer'].value_counts().sort_values(ascending=False)[0:10].plot(kind = 'barh')\n"
   ]
  },
  {
   "cell_type": "code",
   "execution_count": null,
   "metadata": {},
   "outputs": [],
   "source": []
  },
  {
   "cell_type": "code",
   "execution_count": null,
   "metadata": {},
   "outputs": [],
   "source": []
  },
  {
   "cell_type": "code",
   "execution_count": 4,
   "metadata": {},
   "outputs": [],
   "source": [
    "# with open('test_kadal_adiye.txt', 'r', encoding='utf8') as file:\n",
    "#     data = file.read()\n",
    "    \n",
    "# data.split('\\n')"
   ]
  },
  {
   "cell_type": "code",
   "execution_count": 5,
   "metadata": {},
   "outputs": [],
   "source": [
    "queries = ['https://www.google.com/search?q= sid sriram ' + item + ' lyrics' for item in df['Song']]\n",
    "\n",
    "with open('queries.txt', 'w') as f:\n",
    "    for item in queries:\n",
    "        f.write(\"%s\\n\" % item)"
   ]
  },
  {
   "cell_type": "code",
   "execution_count": null,
   "metadata": {},
   "outputs": [],
   "source": []
  },
  {
   "cell_type": "code",
   "execution_count": 6,
   "metadata": {},
   "outputs": [],
   "source": [
    "########################################################\n",
    "########################################################\n",
    "########################################################\n",
    "########################################################\n",
    "# add lyrics files manually \n",
    "########################################################\n",
    "########################################################\n",
    "########################################################\n",
    "########################################################"
   ]
  },
  {
   "cell_type": "code",
   "execution_count": null,
   "metadata": {},
   "outputs": [],
   "source": []
  },
  {
   "cell_type": "code",
   "execution_count": 7,
   "metadata": {},
   "outputs": [
    {
     "name": "stdout",
     "output_type": "stream",
     "text": [
      "146\n",
      "150\n"
     ]
    }
   ],
   "source": [
    "# compare\n",
    "# see how many filenames match \n",
    "# 146 of 150 not bad \n",
    "\n",
    "import glob\n",
    "files = (glob.glob(\"lyrics/*\"))\n",
    "compare = [item.replace(\"sid sriram \",\"\").replace(\"lyrics\\\\\",\"\").replace(\"lyrics\\\\sid sriram \",\"\").replace(\" lyrics.txt\",\"\") for item in files]\n",
    "print(len(list(set(list(df['Song'])).intersection(compare))))\n",
    "print(len(df))"
   ]
  },
  {
   "cell_type": "code",
   "execution_count": 8,
   "metadata": {},
   "outputs": [],
   "source": [
    "# figure out matches for text files in db \n",
    "songs = list(df['Song'])\n",
    "\n",
    "# files = (glob.glob(\"lyrics/*\"))\n",
    "dict_temp = {}\n",
    "for i in range(0,len(songs)):\n",
    "    for j in range(0,len(files)):\n",
    "        parsed = files[j].replace(\"sid sriram \",\"\").replace(\"lyrics\\\\\",\"\").replace(\"lyrics\\\\sid sriram \",\"\").replace(\" lyrics.txt\",\"\")\n",
    "        if parsed == songs[i]:\n",
    "            dict_temp[songs[i]] = files[j] \n",
    "#             print(files[j] + '_____' + songs[i])\n",
    "matchez = pd.Series(dict_temp).to_frame('location').reset_index(drop=False).rename(columns={'index': 'Song'})"
   ]
  },
  {
   "cell_type": "code",
   "execution_count": 9,
   "metadata": {},
   "outputs": [],
   "source": [
    "# merge on Song name \n",
    "merged = pd.merge(left=df, right=matchez, left_on='Song', right_on='Song')\n"
   ]
  },
  {
   "cell_type": "code",
   "execution_count": 11,
   "metadata": {},
   "outputs": [],
   "source": [
    "all_files = []\n",
    "\n",
    "for item in merged['location']:    \n",
    "    with open(item, encoding='utf-8') as f:\n",
    "        lines = f.readlines()\n",
    "    all_files.append(lines)\n",
    "    \n",
    "# remove Male : and Female : \n",
    "# remove empty lines \n",
    "\n",
    "for i in range(0,len(all_files)):\n",
    "    for j in range(0,len(all_files[i])):\n",
    "        all_files[i][j] =all_files[i][j].strip().replace('…','.').replace('..','.').replace('  ',' ').replace('  ',' ').replace('Female :','').replace('\\n','').replace('Male :','')\n",
    "\n",
    "merged['content'] = all_files\n",
    "\n",
    "# (x5) (x3) etc have to be made into their own lines"
   ]
  },
  {
   "cell_type": "code",
   "execution_count": 12,
   "metadata": {},
   "outputs": [],
   "source": [
    "merged['original_line_count'] = [len(item) for item in merged['content'] ]\n",
    "merged['unique_line_count'] = [len(list(set(item))) for item in merged['content'] ]\n",
    "merged = merged.reset_index(drop=True)"
   ]
  },
  {
   "cell_type": "code",
   "execution_count": null,
   "metadata": {},
   "outputs": [],
   "source": []
  },
  {
   "cell_type": "code",
   "execution_count": null,
   "metadata": {},
   "outputs": [],
   "source": []
  },
  {
   "cell_type": "code",
   "execution_count": null,
   "metadata": {},
   "outputs": [],
   "source": []
  },
  {
   "cell_type": "code",
   "execution_count": 13,
   "metadata": {},
   "outputs": [],
   "source": [
    "# percentage of unique to regular lines \n",
    "# something to do with words in a song \n",
    "\n",
    "ind_word = []\n",
    "for i in range(0, len(merged['content'])):\n",
    "    temp = []\n",
    "    for j in range(0,len(merged['content'][i])):\n",
    "#         print(merged['content'][i][j].split(' '))\n",
    "        temp.extend(merged['content'][i][j].split(' '))\n",
    "#     print('______________')\n",
    "    ind_word.append(temp)\n",
    "\n",
    "    \n",
    "merged['ind_word'] = ind_word"
   ]
  },
  {
   "cell_type": "code",
   "execution_count": 14,
   "metadata": {},
   "outputs": [],
   "source": [
    "merged['original_word_count'] = [len(item) for item in merged['ind_word'] ]\n",
    "merged['unique_word_count'] = [len(list(set(item))) for item in merged['ind_word'] ]\n",
    "\n",
    "# percentage of lines copied \n",
    "# percentage of words copied \n",
    "\n",
    "merged['percent_of_lines_copied'] = (((merged['original_line_count'] - merged['unique_line_count']) / merged['original_line_count']) * 100)\n",
    "merged['percent_of_words_copied'] = ((merged['original_word_count'] - merged['unique_word_count']) / merged['original_word_count']) * 100 "
   ]
  },
  {
   "cell_type": "code",
   "execution_count": 15,
   "metadata": {},
   "outputs": [
    {
     "data": {
      "text/html": [
       "<div>\n",
       "<style scoped>\n",
       "    .dataframe tbody tr th:only-of-type {\n",
       "        vertical-align: middle;\n",
       "    }\n",
       "\n",
       "    .dataframe tbody tr th {\n",
       "        vertical-align: top;\n",
       "    }\n",
       "\n",
       "    .dataframe thead th {\n",
       "        text-align: right;\n",
       "    }\n",
       "</style>\n",
       "<table border=\"1\" class=\"dataframe\">\n",
       "  <thead>\n",
       "    <tr style=\"text-align: right;\">\n",
       "      <th></th>\n",
       "      <th>Year</th>\n",
       "      <th>Film</th>\n",
       "      <th>Song</th>\n",
       "      <th>Composer</th>\n",
       "      <th>Language</th>\n",
       "      <th>location</th>\n",
       "      <th>content</th>\n",
       "      <th>original_line_count</th>\n",
       "      <th>unique_line_count</th>\n",
       "      <th>ind_word</th>\n",
       "      <th>original_word_count</th>\n",
       "      <th>unique_word_count</th>\n",
       "      <th>percent_of_lines_copied</th>\n",
       "      <th>percent_of_words_copied</th>\n",
       "    </tr>\n",
       "  </thead>\n",
       "  <tbody>\n",
       "    <tr>\n",
       "      <th>0</th>\n",
       "      <td>2013</td>\n",
       "      <td>Kadal</td>\n",
       "      <td>Adiye</td>\n",
       "      <td>A. R. Rahman</td>\n",
       "      <td>Tamil</td>\n",
       "      <td>lyrics\\sid sriram Adiye lyrics.txt</td>\n",
       "      <td>[மனச தொறந்தாயே நீ, எங்கிருந்து வந்தாயோ நீ?, அட...</td>\n",
       "      <td>57</td>\n",
       "      <td>24</td>\n",
       "      <td>[மனச, தொறந்தாயே, நீ, எங்கிருந்து, வந்தாயோ, நீ?...</td>\n",
       "      <td>192</td>\n",
       "      <td>66</td>\n",
       "      <td>57.894737</td>\n",
       "      <td>65.625000</td>\n",
       "    </tr>\n",
       "    <tr>\n",
       "      <th>1</th>\n",
       "      <td>2015</td>\n",
       "      <td>I</td>\n",
       "      <td>Ennodu Nee Irundhaal</td>\n",
       "      <td>A. R. Rahman</td>\n",
       "      <td>Tamil</td>\n",
       "      <td>lyrics\\Ennodu Nee Irundhaal lyrics.txt</td>\n",
       "      <td>[காற்றை தரும் காடுகளே வேண்டாம், ஓ தண்ணீர் தரும...</td>\n",
       "      <td>48</td>\n",
       "      <td>26</td>\n",
       "      <td>[காற்றை, தரும், காடுகளே, வேண்டாம், ஓ, தண்ணீர்,...</td>\n",
       "      <td>169</td>\n",
       "      <td>77</td>\n",
       "      <td>45.833333</td>\n",
       "      <td>54.437870</td>\n",
       "    </tr>\n",
       "    <tr>\n",
       "      <th>2</th>\n",
       "      <td>2015</td>\n",
       "      <td>I</td>\n",
       "      <td>Ennodu Nee Irundhaal(Reprise)</td>\n",
       "      <td>A. R. Rahman</td>\n",
       "      <td>Tamil</td>\n",
       "      <td>lyrics\\sid sriram Ennodu Nee Irundhaal(Reprise...</td>\n",
       "      <td>[காற்றை தரும் காடுகளே வேண்டாம், ஓ தண்ணீர் தரும...</td>\n",
       "      <td>48</td>\n",
       "      <td>26</td>\n",
       "      <td>[காற்றை, தரும், காடுகளே, வேண்டாம், ஓ, தண்ணீர்,...</td>\n",
       "      <td>169</td>\n",
       "      <td>77</td>\n",
       "      <td>45.833333</td>\n",
       "      <td>54.437870</td>\n",
       "    </tr>\n",
       "    <tr>\n",
       "      <th>3</th>\n",
       "      <td>2015</td>\n",
       "      <td>Naanum Rowdy Dhaan</td>\n",
       "      <td>Yennai Mattrum Kadhale</td>\n",
       "      <td>Anirudh Ravichander</td>\n",
       "      <td>Tamil</td>\n",
       "      <td>lyrics\\sid sriram Yennai Mattrum Kadhale lyric...</td>\n",
       "      <td>[எதுக்காக கிட்ட வந்தாளோ?, எத தேடி விட்டு போனாள...</td>\n",
       "      <td>64</td>\n",
       "      <td>23</td>\n",
       "      <td>[எதுக்காக, கிட்ட, வந்தாளோ?, எத, தேடி, விட்டு, ...</td>\n",
       "      <td>244</td>\n",
       "      <td>62</td>\n",
       "      <td>64.062500</td>\n",
       "      <td>74.590164</td>\n",
       "    </tr>\n",
       "    <tr>\n",
       "      <th>4</th>\n",
       "      <td>2016</td>\n",
       "      <td>24</td>\n",
       "      <td>Mei Nigara</td>\n",
       "      <td>A. R. Rahman</td>\n",
       "      <td>Tamil</td>\n",
       "      <td>lyrics\\sid sriram Mei Nigara lyrics.txt</td>\n",
       "      <td>[ஓடாதே தித்திக்காரி, ஓடாதே பொட்டுக்காரி, ஓடாதே...</td>\n",
       "      <td>98</td>\n",
       "      <td>59</td>\n",
       "      <td>[ஓடாதே, தித்திக்காரி, ஓடாதே, பொட்டுக்காரி, ஓடா...</td>\n",
       "      <td>241</td>\n",
       "      <td>110</td>\n",
       "      <td>39.795918</td>\n",
       "      <td>54.356846</td>\n",
       "    </tr>\n",
       "  </tbody>\n",
       "</table>\n",
       "</div>"
      ],
      "text/plain": [
       "   Year                Film                           Song  \\\n",
       "0  2013               Kadal                          Adiye   \n",
       "1  2015                   I           Ennodu Nee Irundhaal   \n",
       "2  2015                   I  Ennodu Nee Irundhaal(Reprise)   \n",
       "3  2015  Naanum Rowdy Dhaan         Yennai Mattrum Kadhale   \n",
       "4  2016                  24                     Mei Nigara   \n",
       "\n",
       "              Composer Language  \\\n",
       "0         A. R. Rahman    Tamil   \n",
       "1         A. R. Rahman    Tamil   \n",
       "2         A. R. Rahman    Tamil   \n",
       "3  Anirudh Ravichander    Tamil   \n",
       "4         A. R. Rahman    Tamil   \n",
       "\n",
       "                                            location  \\\n",
       "0                 lyrics\\sid sriram Adiye lyrics.txt   \n",
       "1             lyrics\\Ennodu Nee Irundhaal lyrics.txt   \n",
       "2  lyrics\\sid sriram Ennodu Nee Irundhaal(Reprise...   \n",
       "3  lyrics\\sid sriram Yennai Mattrum Kadhale lyric...   \n",
       "4            lyrics\\sid sriram Mei Nigara lyrics.txt   \n",
       "\n",
       "                                             content  original_line_count  \\\n",
       "0  [மனச தொறந்தாயே நீ, எங்கிருந்து வந்தாயோ நீ?, அட...                   57   \n",
       "1  [காற்றை தரும் காடுகளே வேண்டாம், ஓ தண்ணீர் தரும...                   48   \n",
       "2  [காற்றை தரும் காடுகளே வேண்டாம், ஓ தண்ணீர் தரும...                   48   \n",
       "3  [எதுக்காக கிட்ட வந்தாளோ?, எத தேடி விட்டு போனாள...                   64   \n",
       "4  [ஓடாதே தித்திக்காரி, ஓடாதே பொட்டுக்காரி, ஓடாதே...                   98   \n",
       "\n",
       "   unique_line_count                                           ind_word  \\\n",
       "0                 24  [மனச, தொறந்தாயே, நீ, எங்கிருந்து, வந்தாயோ, நீ?...   \n",
       "1                 26  [காற்றை, தரும், காடுகளே, வேண்டாம், ஓ, தண்ணீர்,...   \n",
       "2                 26  [காற்றை, தரும், காடுகளே, வேண்டாம், ஓ, தண்ணீர்,...   \n",
       "3                 23  [எதுக்காக, கிட்ட, வந்தாளோ?, எத, தேடி, விட்டு, ...   \n",
       "4                 59  [ஓடாதே, தித்திக்காரி, ஓடாதே, பொட்டுக்காரி, ஓடா...   \n",
       "\n",
       "   original_word_count  unique_word_count  percent_of_lines_copied  \\\n",
       "0                  192                 66                57.894737   \n",
       "1                  169                 77                45.833333   \n",
       "2                  169                 77                45.833333   \n",
       "3                  244                 62                64.062500   \n",
       "4                  241                110                39.795918   \n",
       "\n",
       "   percent_of_words_copied  \n",
       "0                65.625000  \n",
       "1                54.437870  \n",
       "2                54.437870  \n",
       "3                74.590164  \n",
       "4                54.356846  "
      ]
     },
     "execution_count": 15,
     "metadata": {},
     "output_type": "execute_result"
    }
   ],
   "source": [
    "merged.head()"
   ]
  },
  {
   "cell_type": "code",
   "execution_count": null,
   "metadata": {},
   "outputs": [],
   "source": [
    "# In what language does he copy the most \n",
    "# In what year does he copy the most \n",
    "# has the copying gotten worse or better over time "
   ]
  },
  {
   "cell_type": "code",
   "execution_count": null,
   "metadata": {},
   "outputs": [],
   "source": []
  },
  {
   "cell_type": "code",
   "execution_count": null,
   "metadata": {},
   "outputs": [],
   "source": []
  },
  {
   "cell_type": "code",
   "execution_count": null,
   "metadata": {},
   "outputs": [],
   "source": []
  },
  {
   "cell_type": "code",
   "execution_count": null,
   "metadata": {},
   "outputs": [],
   "source": []
  },
  {
   "cell_type": "code",
   "execution_count": null,
   "metadata": {},
   "outputs": [],
   "source": [
    "# import numpy as np\n",
    "# import matplotlib.pyplot as plt\n",
    "# plt.scatter(merged['original_line_count'] ,merged['unique_line_count'] )\n",
    "# plt.show()"
   ]
  },
  {
   "cell_type": "code",
   "execution_count": 179,
   "metadata": {},
   "outputs": [],
   "source": [
    "# import matplotlib.pyplot as plt\n",
    "# import numpy as np\n",
    "# %matplotlib inline\n",
    "\n",
    "# np.random.seed(42)\n",
    "\n",
    "# plt.hist(merged['original_word_count'], density=True, bins=30)  # density=False would make counts\n",
    "# plt.ylabel('Probability')\n",
    "# plt.xlabel('Data')\n",
    "# plt.show()"
   ]
  },
  {
   "cell_type": "code",
   "execution_count": 177,
   "metadata": {},
   "outputs": [],
   "source": [
    "# import matplotlib.pyplot as plt\n",
    "# plt.plot(merged['original_word_count'],'g*', merged['unique_word_count'], 'ro')\n",
    "# plt.show()"
   ]
  },
  {
   "cell_type": "code",
   "execution_count": 178,
   "metadata": {},
   "outputs": [],
   "source": [
    "# import matplotlib.pyplot as plt\n",
    "# plt.plot(merged['original_line_count'],'g*', merged['unique_line_count'], 'ro')\n",
    "# plt.show()"
   ]
  },
  {
   "cell_type": "code",
   "execution_count": null,
   "metadata": {},
   "outputs": [],
   "source": []
  }
 ],
 "metadata": {
  "kernelspec": {
   "display_name": "Python 3",
   "language": "python",
   "name": "python3"
  },
  "language_info": {
   "codemirror_mode": {
    "name": "ipython",
    "version": 3
   },
   "file_extension": ".py",
   "mimetype": "text/x-python",
   "name": "python",
   "nbconvert_exporter": "python",
   "pygments_lexer": "ipython3",
   "version": "3.8.3"
  }
 },
 "nbformat": 4,
 "nbformat_minor": 4
}
