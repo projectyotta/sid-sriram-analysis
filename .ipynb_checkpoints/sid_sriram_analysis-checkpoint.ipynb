{
 "cells": [
  {
   "cell_type": "code",
   "execution_count": 1,
   "metadata": {},
   "outputs": [
    {
     "data": {
      "text/html": [
       "<div>\n",
       "<style scoped>\n",
       "    .dataframe tbody tr th:only-of-type {\n",
       "        vertical-align: middle;\n",
       "    }\n",
       "\n",
       "    .dataframe tbody tr th {\n",
       "        vertical-align: top;\n",
       "    }\n",
       "\n",
       "    .dataframe thead th {\n",
       "        text-align: right;\n",
       "    }\n",
       "</style>\n",
       "<table border=\"1\" class=\"dataframe\">\n",
       "  <thead>\n",
       "    <tr style=\"text-align: right;\">\n",
       "      <th></th>\n",
       "      <th>Year</th>\n",
       "      <th>Film</th>\n",
       "      <th>Song</th>\n",
       "      <th>Composer</th>\n",
       "      <th>Language</th>\n",
       "    </tr>\n",
       "  </thead>\n",
       "  <tbody>\n",
       "    <tr>\n",
       "      <th>145</th>\n",
       "      <td>2019</td>\n",
       "      <td>Manoharam</td>\n",
       "      <td>Akale</td>\n",
       "      <td>Sanjeev T</td>\n",
       "      <td>Malyalam</td>\n",
       "    </tr>\n",
       "    <tr>\n",
       "      <th>146</th>\n",
       "      <td>2020</td>\n",
       "      <td>Gauthamante Radham</td>\n",
       "      <td>Uyire</td>\n",
       "      <td>Ankit Menon</td>\n",
       "      <td>Malyalam</td>\n",
       "    </tr>\n",
       "    <tr>\n",
       "      <th>147</th>\n",
       "      <td>2020</td>\n",
       "      <td>Maniyarayile Ashokan</td>\n",
       "      <td>Olu</td>\n",
       "      <td>Sreehari K Nair</td>\n",
       "      <td>Malyalam</td>\n",
       "    </tr>\n",
       "    <tr>\n",
       "      <th>148</th>\n",
       "      <td>2021</td>\n",
       "      <td>Thala</td>\n",
       "      <td>Poonkodiye</td>\n",
       "      <td>Ankit Menon</td>\n",
       "      <td>Malyalam</td>\n",
       "    </tr>\n",
       "    <tr>\n",
       "      <th>149</th>\n",
       "      <td>2021</td>\n",
       "      <td>Kudukku 2025</td>\n",
       "      <td>Maaran</td>\n",
       "      <td>Bhoomee</td>\n",
       "      <td>Malyalam</td>\n",
       "    </tr>\n",
       "  </tbody>\n",
       "</table>\n",
       "</div>"
      ],
      "text/plain": [
       "     Year                  Film        Song         Composer  Language\n",
       "145  2019             Manoharam       Akale        Sanjeev T  Malyalam\n",
       "146  2020    Gauthamante Radham       Uyire      Ankit Menon  Malyalam\n",
       "147  2020  Maniyarayile Ashokan         Olu  Sreehari K Nair  Malyalam\n",
       "148  2021                 Thala  Poonkodiye      Ankit Menon  Malyalam\n",
       "149  2021          Kudukku 2025      Maaran          Bhoomee  Malyalam"
      ]
     },
     "execution_count": 1,
     "metadata": {},
     "output_type": "execute_result"
    }
   ],
   "source": [
    "import pandas as pd \n",
    "df = pd.read_csv('data.csv')\n",
    "df.tail()"
   ]
  },
  {
   "cell_type": "code",
   "execution_count": null,
   "metadata": {},
   "outputs": [],
   "source": []
  },
  {
   "cell_type": "code",
   "execution_count": 72,
   "metadata": {},
   "outputs": [],
   "source": [
    "# How many songs has he outputted ? \n",
    "# df['Year'].value_counts().sort_values().plot(kind = 'barh')"
   ]
  },
  {
   "cell_type": "code",
   "execution_count": 73,
   "metadata": {},
   "outputs": [],
   "source": [
    "# # How many songs has he outputted ? \n",
    "# df['Composer'].value_counts().sort_values(ascending=False)[0:10].plot(kind = 'barh')\n"
   ]
  },
  {
   "cell_type": "code",
   "execution_count": null,
   "metadata": {},
   "outputs": [],
   "source": []
  },
  {
   "cell_type": "code",
   "execution_count": null,
   "metadata": {},
   "outputs": [],
   "source": []
  },
  {
   "cell_type": "code",
   "execution_count": 4,
   "metadata": {},
   "outputs": [],
   "source": [
    "# with open('test_kadal_adiye.txt', 'r', encoding='utf8') as file:\n",
    "#     data = file.read()\n",
    "    \n",
    "# data.split('\\n')"
   ]
  },
  {
   "cell_type": "code",
   "execution_count": 5,
   "metadata": {},
   "outputs": [],
   "source": [
    "queries = ['https://www.google.com/search?q= sid sriram ' + item + ' lyrics' for item in df['Song']]\n",
    "\n",
    "with open('queries.txt', 'w') as f:\n",
    "    for item in queries:\n",
    "        f.write(\"%s\\n\" % item)"
   ]
  },
  {
   "cell_type": "code",
   "execution_count": null,
   "metadata": {},
   "outputs": [],
   "source": []
  },
  {
   "cell_type": "code",
   "execution_count": 6,
   "metadata": {},
   "outputs": [],
   "source": [
    "########################################################\n",
    "########################################################\n",
    "########################################################\n",
    "########################################################\n",
    "# add lyrics files \n",
    "########################################################\n",
    "########################################################\n",
    "########################################################\n",
    "########################################################"
   ]
  },
  {
   "cell_type": "code",
   "execution_count": null,
   "metadata": {},
   "outputs": [],
   "source": []
  },
  {
   "cell_type": "code",
   "execution_count": 7,
   "metadata": {},
   "outputs": [
    {
     "name": "stdout",
     "output_type": "stream",
     "text": [
      "146\n",
      "150\n"
     ]
    }
   ],
   "source": [
    "# compare\n",
    "# see how many filenames match \n",
    "# 146 of 150 not bad \n",
    "\n",
    "import glob\n",
    "files = (glob.glob(\"lyrics/*\"))\n",
    "compare = [item.replace(\"sid sriram \",\"\").replace(\"lyrics\\\\\",\"\").replace(\"lyrics\\\\sid sriram \",\"\").replace(\" lyrics.txt\",\"\") for item in files]\n",
    "print(len(list(set(list(df['Song'])).intersection(compare))))\n",
    "print(len(df))"
   ]
  },
  {
   "cell_type": "code",
   "execution_count": 8,
   "metadata": {},
   "outputs": [],
   "source": [
    "# figure out matches for text files in db \n",
    "songs = list(df['Song'])\n",
    "\n",
    "# files = (glob.glob(\"lyrics/*\"))\n",
    "dict_temp = {}\n",
    "for i in range(0,len(songs)):\n",
    "    for j in range(0,len(files)):\n",
    "        parsed = files[j].replace(\"sid sriram \",\"\").replace(\"lyrics\\\\\",\"\").replace(\"lyrics\\\\sid sriram \",\"\").replace(\" lyrics.txt\",\"\")\n",
    "        if parsed == songs[i]:\n",
    "            dict_temp[songs[i]] = files[j] \n",
    "#             print(files[j] + '_____' + songs[i])\n",
    "matchez = pd.Series(dict_temp).to_frame('location').reset_index(drop=False).rename(columns={'index': 'Song'})"
   ]
  },
  {
   "cell_type": "code",
   "execution_count": 9,
   "metadata": {},
   "outputs": [],
   "source": [
    "# merge on Song name \n",
    "merged = pd.merge(left=df, right=matchez, left_on='Song', right_on='Song')\n"
   ]
  },
  {
   "cell_type": "code",
   "execution_count": 11,
   "metadata": {},
   "outputs": [],
   "source": [
    "all_files = []\n",
    "\n",
    "for item in merged['location']:    \n",
    "    with open(item, encoding='utf-8') as f:\n",
    "        lines = f.readlines()\n",
    "    all_files.append(lines)\n",
    "    \n",
    "# remove Male : and Female : \n",
    "# remove empty lines \n",
    "\n",
    "for i in range(0,len(all_files)):\n",
    "    for j in range(0,len(all_files[i])):\n",
    "        all_files[i][j] =all_files[i][j].strip().replace('…','.').replace('..','.').replace('  ',' ').replace('  ',' ').replace('Female :','').replace('\\n','').replace('Male :','')\n",
    "\n",
    "merged['content'] = all_files\n",
    "\n",
    "# (x5) (x3) etc have to be made into their own lines"
   ]
  },
  {
   "cell_type": "code",
   "execution_count": 12,
   "metadata": {},
   "outputs": [],
   "source": [
    "merged['original_line_count'] = [len(item) for item in merged['content'] ]\n",
    "merged['unique_line_count'] = [len(list(set(item))) for item in merged['content'] ]\n",
    "merged = merged.reset_index(drop=True)"
   ]
  },
  {
   "cell_type": "code",
   "execution_count": null,
   "metadata": {},
   "outputs": [],
   "source": []
  },
  {
   "cell_type": "code",
   "execution_count": null,
   "metadata": {},
   "outputs": [],
   "source": []
  },
  {
   "cell_type": "code",
   "execution_count": null,
   "metadata": {},
   "outputs": [],
   "source": []
  },
  {
   "cell_type": "code",
   "execution_count": 13,
   "metadata": {},
   "outputs": [],
   "source": [
    "# percentage of unique to regular lines \n",
    "# something to do with words in a song \n",
    "\n",
    "ind_word = []\n",
    "for i in range(0, len(merged['content'])):\n",
    "    temp = []\n",
    "    for j in range(0,len(merged['content'][i])):\n",
    "#         print(merged['content'][i][j].split(' '))\n",
    "        temp.extend(merged['content'][i][j].split(' '))\n",
    "#     print('______________')\n",
    "    ind_word.append(temp)\n",
    "\n",
    "    \n",
    "merged['ind_word'] = ind_word"
   ]
  },
  {
   "cell_type": "code",
   "execution_count": 14,
   "metadata": {},
   "outputs": [],
   "source": [
    "merged['original_word_count'] = [len(item) for item in merged['ind_word'] ]\n",
    "merged['unique_word_count'] = [len(list(set(item))) for item in merged['ind_word'] ]\n",
    "\n",
    "# percentage of lines copied \n",
    "# percentage of words copied \n",
    "\n",
    "merged['percent_of_lines_copied'] = (((merged['original_line_count'] - merged['unique_line_count']) / merged['original_line_count']) * 100)\n",
    "merged['percent_of_words_copied'] = ((merged['original_word_count'] - merged['unique_word_count']) / merged['original_word_count']) * 100 "
   ]
  },
  {
   "cell_type": "code",
   "execution_count": null,
   "metadata": {},
   "outputs": [],
   "source": []
  },
  {
   "cell_type": "code",
   "execution_count": null,
   "metadata": {},
   "outputs": [],
   "source": [
    "\n"
   ]
  },
  {
   "cell_type": "code",
   "execution_count": 82,
   "metadata": {},
   "outputs": [
    {
     "data": {
      "text/plain": [
       "count    146.000000\n",
       "mean      42.653953\n",
       "std       13.831092\n",
       "min        3.508772\n",
       "25%       34.984956\n",
       "50%       43.527967\n",
       "75%       53.314195\n",
       "max       74.590164\n",
       "Name: lexical_richness, dtype: float64"
      ]
     },
     "execution_count": 82,
     "metadata": {},
     "output_type": "execute_result"
    }
   ],
   "source": [
    "# merged.to_csv('merged.csv')\n",
    "\n",
    "# The number of lines per song on average \n",
    "# The number of words per song on average \n",
    "# average number of unique lines \n",
    "# average number of unique words\n",
    "\n",
    "# print(merged.original_line_count.describe()['mean'])\n",
    "# print(merged.unique_line_count.describe()['mean'])\n",
    "# print(merged.original_word_count.describe()['mean'])\n",
    "# print(merged.unique_word_count.describe()['mean'])\n",
    "\n",
    "\n",
    "# lexical richness of each artist (i.e., what proportion of the words used in the songs are distinct)\n",
    "\n",
    "\n",
    "merged['lexical_richness'] = ((merged['original_word_count'] - merged['unique_word_count']) / merged['original_word_count'] ) * 100 \n",
    "\n",
    "merged.lexical_richness.describe()\n"
   ]
  },
  {
   "cell_type": "code",
   "execution_count": 77,
   "metadata": {},
   "outputs": [
    {
     "data": {
      "text/html": [
       "<div>\n",
       "<style scoped>\n",
       "    .dataframe tbody tr th:only-of-type {\n",
       "        vertical-align: middle;\n",
       "    }\n",
       "\n",
       "    .dataframe tbody tr th {\n",
       "        vertical-align: top;\n",
       "    }\n",
       "\n",
       "    .dataframe thead th {\n",
       "        text-align: right;\n",
       "    }\n",
       "</style>\n",
       "<table border=\"1\" class=\"dataframe\">\n",
       "  <thead>\n",
       "    <tr style=\"text-align: right;\">\n",
       "      <th></th>\n",
       "      <th>percent_of_lines_copied</th>\n",
       "      <th>percent_of_words_copied</th>\n",
       "    </tr>\n",
       "    <tr>\n",
       "      <th>Year</th>\n",
       "      <th></th>\n",
       "      <th></th>\n",
       "    </tr>\n",
       "  </thead>\n",
       "  <tbody>\n",
       "    <tr>\n",
       "      <th>2013</th>\n",
       "      <td>59.352774</td>\n",
       "      <td>58.971440</td>\n",
       "    </tr>\n",
       "    <tr>\n",
       "      <th>2015</th>\n",
       "      <td>40.842803</td>\n",
       "      <td>53.449937</td>\n",
       "    </tr>\n",
       "    <tr>\n",
       "      <th>2016</th>\n",
       "      <td>27.564348</td>\n",
       "      <td>39.491657</td>\n",
       "    </tr>\n",
       "    <tr>\n",
       "      <th>2017</th>\n",
       "      <td>28.950294</td>\n",
       "      <td>45.449604</td>\n",
       "    </tr>\n",
       "    <tr>\n",
       "      <th>2018</th>\n",
       "      <td>37.936889</td>\n",
       "      <td>44.397566</td>\n",
       "    </tr>\n",
       "    <tr>\n",
       "      <th>2019</th>\n",
       "      <td>28.637164</td>\n",
       "      <td>36.807407</td>\n",
       "    </tr>\n",
       "    <tr>\n",
       "      <th>2020</th>\n",
       "      <td>38.956607</td>\n",
       "      <td>47.915118</td>\n",
       "    </tr>\n",
       "    <tr>\n",
       "      <th>2021</th>\n",
       "      <td>37.302811</td>\n",
       "      <td>41.474677</td>\n",
       "    </tr>\n",
       "  </tbody>\n",
       "</table>\n",
       "</div>"
      ],
      "text/plain": [
       "      percent_of_lines_copied  percent_of_words_copied\n",
       "Year                                                  \n",
       "2013                59.352774                58.971440\n",
       "2015                40.842803                53.449937\n",
       "2016                27.564348                39.491657\n",
       "2017                28.950294                45.449604\n",
       "2018                37.936889                44.397566\n",
       "2019                28.637164                36.807407\n",
       "2020                38.956607                47.915118\n",
       "2021                37.302811                41.474677"
      ]
     },
     "execution_count": 77,
     "metadata": {},
     "output_type": "execute_result"
    }
   ],
   "source": [
    "\n",
    "# In what language does he copy the most \n",
    "# get weighted percentage based on numhber of songs in each language \n",
    "# merged.groupby(['Language']).mean()[['percent_of_lines_copied','percent_of_words_copied']]\n",
    "\n",
    "\n",
    "# In what year does he copy the most \n",
    "# has the copying gotten worse or better over time \n",
    "# merged.groupby(['Year']).mean()[['percent_of_lines_copied','percent_of_words_copied']]\n",
    "\n",
    "# merged.groupby(['Year','Language']).mean()[['percent_of_lines_copied','percent_of_words_copied']]\n"
   ]
  },
  {
   "cell_type": "code",
   "execution_count": 117,
   "metadata": {},
   "outputs": [
    {
     "data": {
      "text/plain": [
       "'పచ్చ పచ్చ పచ్చి మట్టి బొమ్మలా'"
      ]
     },
     "execution_count": 117,
     "metadata": {},
     "output_type": "execute_result"
    }
   ],
   "source": [
    "# NOT WORKING :/ \n",
    "# !pip install googletrans\n",
    "# import googletrans\n",
    "# from googletrans import Translator\n",
    "# translator = Translator()\n",
    "# result = translator.translate('Mikä on nimesi', src='fi')"
   ]
  },
  {
   "cell_type": "code",
   "execution_count": 119,
   "metadata": {},
   "outputs": [],
   "source": [
    "\n",
    "# # Does not do tamil or telugu - o well :/ \n",
    "# !pip install translate\n",
    "# from translate import Translator\n",
    "# translator= Translator(to_lang=\"English\")\n",
    "# translation = translator.translate(str(merged.content[82][1]))\n",
    "# print(translation)\n"
   ]
  },
  {
   "cell_type": "code",
   "execution_count": 120,
   "metadata": {},
   "outputs": [
    {
     "data": {
      "text/plain": [
       "'పచ్చ పచ్చ పచ్చి మట్టి బొమ్మలా'"
      ]
     },
     "execution_count": 120,
     "metadata": {},
     "output_type": "execute_result"
    }
   ],
   "source": [
    "# can build some kindof lstm model , but before that need to get everything into english\n",
    "\n",
    "# Use selenium to get into google translate and copy over the content \n",
    "\n",
    "\n"
   ]
  },
  {
   "cell_type": "code",
   "execution_count": 66,
   "metadata": {},
   "outputs": [],
   "source": [
    "\n",
    "# # agverage sid sriram song \n",
    "# from collections import Counter\n",
    "\n",
    "    \n",
    "# all_tel = []\n",
    "# for i in range(0,len(merged)):\n",
    "#     if merged['Language'][i]=='Telugu':\n",
    "#         all_tel.extend(merged['content'][i])\n",
    "\n",
    "# (Counter(all_tel).most_common())[0:15]"
   ]
  },
  {
   "cell_type": "code",
   "execution_count": 71,
   "metadata": {},
   "outputs": [],
   "source": [
    "\n",
    "# # most common words used - dump as addition to most common lines \n",
    "# from collections import Counter\n",
    "\n",
    "    \n",
    "# all_tel = []\n",
    "# for i in range(0,len(merged)):\n",
    "#     if merged['Language'][i]=='Telugu':\n",
    "#         all_tel.extend(merged['ind_word'][i])\n",
    "\n",
    "# (Counter(all_tel).most_common())[0:100]"
   ]
  },
  {
   "cell_type": "code",
   "execution_count": null,
   "metadata": {},
   "outputs": [],
   "source": []
  },
  {
   "cell_type": "code",
   "execution_count": 139,
   "metadata": {},
   "outputs": [
    {
     "name": "stderr",
     "output_type": "stream",
     "text": [
      "[WDM] - Current google-chrome version is 92.0.4515\n",
      "[WDM] - Get LATEST driver version for 92.0.4515\n",
      "[WDM] - Driver [C:\\Users\\raosa\\.wdm\\drivers\\chromedriver\\win32\\92.0.4515.107\\chromedriver.exe] found in cache\n"
     ]
    },
    {
     "name": "stdout",
     "output_type": "stream",
     "text": [
      " \n",
      "పచ్చ పచ్చ పచ్చి మట్టి బొమ్మలా\n"
     ]
    }
   ],
   "source": [
    "# eh , pass . too much effort \n",
    "# # ! pip install webdriver_manager \n",
    "# # ! pip install pyautogui \n",
    "\n",
    "# import requests \n",
    "# import json \n",
    "# import base64 \n",
    "# from selenium import webdriver \n",
    "# from webdriver_manager.chrome import ChromeDriverManager \n",
    "# from selenium.webdriver.chrome.options import Options \n",
    "# from webdriver_manager.utils import ChromeType \n",
    "# import os \n",
    "# from selenium.webdriver.support.ui import WebDriverWait\n",
    "# from selenium.webdriver.support import expected_conditions as EC \n",
    "# from selenium.webdriver.common.by import By \n",
    "# from bs4 import BeautifulSoup \n",
    "# from selenium.webdriver.support.ui import Select \n",
    "# import time \n",
    "# def driver_obj():\n",
    "#     chrome_options_list = ['--no-sandbox','--disable-dev-shm-usage','--disable-gpu', '--start-maximized','--disable-infobars','--disable-extensions']\n",
    "#     chrome_options = Options()\n",
    "#     for i in range(0,len(chrome_options_list)):\n",
    "#         chrome_options.add_argument(chrome_options_list[i])\n",
    "#     driver = webdriver.Chrome(ChromeDriverManager(latest_release_url='https://chromedriver.storage.googleapis.com/LATEST_RELEASE',url='https://chromedriver.storage.googleapis.com').install(), options=chrome_options)\n",
    "#     driver.maximize_window()\n",
    "#     return driver\n",
    "\n",
    "\n",
    "# driver = driver_obj()\n",
    "# driver.get('https://www.google.com/search?q=' + 'google translate')\n",
    "# time.sleep(2)\n",
    "# aa = BeautifulSoup(driver.page_source, \"html.parser\")\n",
    "\n",
    "# import time \n",
    "# import pyautogui\n",
    "# pyautogui.click(365,457) \n",
    "# time.sleep(5)\n",
    "\n",
    "\n",
    "# import pyperclip\n",
    "# pyperclip.copy(\"పచ్చ పచ్చ పచ్చి మట్టి బొమ్మలా\")\n",
    "\n",
    "# pyautogui.keyDown('ctrl')\n",
    "# pyautogui.press('v')\n",
    "# pyautogui.keyUp('ctrl')  \n",
    "\n",
    "\n",
    "# time.sleep(3)\n",
    "# pyautogui.click(549,559) \n",
    "\n",
    "# time.sleep(3)\n",
    "# spam = pyperclip.paste()\n",
    "# print(spam)\n",
    "\n",
    "# time.sleep(10)\n",
    "# driver.quit()\n",
    "\n",
    "\n"
   ]
  },
  {
   "cell_type": "code",
   "execution_count": null,
   "metadata": {},
   "outputs": [],
   "source": [
    "# import numpy as np\n",
    "# import matplotlib.pyplot as plt\n",
    "# plt.scatter(merged['original_line_count'] ,merged['unique_line_count'] )\n",
    "# plt.show()"
   ]
  },
  {
   "cell_type": "code",
   "execution_count": 179,
   "metadata": {},
   "outputs": [],
   "source": [
    "# import matplotlib.pyplot as plt\n",
    "# import numpy as np\n",
    "# %matplotlib inline\n",
    "\n",
    "# np.random.seed(42)\n",
    "\n",
    "# plt.hist(merged['original_word_count'], density=True, bins=30)  # density=False would make counts\n",
    "# plt.ylabel('Probability')\n",
    "# plt.xlabel('Data')\n",
    "# plt.show()"
   ]
  },
  {
   "cell_type": "code",
   "execution_count": 177,
   "metadata": {},
   "outputs": [],
   "source": [
    "# import matplotlib.pyplot as plt\n",
    "# plt.plot(merged['original_word_count'],'g*', merged['unique_word_count'], 'ro')\n",
    "# plt.show()"
   ]
  },
  {
   "cell_type": "code",
   "execution_count": 178,
   "metadata": {},
   "outputs": [],
   "source": [
    "# import matplotlib.pyplot as plt\n",
    "# plt.plot(merged['original_line_count'],'g*', merged['unique_line_count'], 'ro')\n",
    "# plt.show()"
   ]
  },
  {
   "cell_type": "code",
   "execution_count": null,
   "metadata": {},
   "outputs": [],
   "source": []
  }
 ],
 "metadata": {
  "kernelspec": {
   "display_name": "Python 3",
   "language": "python",
   "name": "python3"
  },
  "language_info": {
   "codemirror_mode": {
    "name": "ipython",
    "version": 3
   },
   "file_extension": ".py",
   "mimetype": "text/x-python",
   "name": "python",
   "nbconvert_exporter": "python",
   "pygments_lexer": "ipython3",
   "version": "3.8.3"
  }
 },
 "nbformat": 4,
 "nbformat_minor": 4
}
